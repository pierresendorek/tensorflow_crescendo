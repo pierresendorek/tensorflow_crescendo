{
 "cells": [
  {
   "cell_type": "code",
   "execution_count": 1,
   "metadata": {
    "collapsed": false
   },
   "outputs": [],
   "source": [
    "import tensorflow as tf\n",
    "import numpy as np\n",
    "import matplotlib.pyplot as plt\n",
    "%matplotlib inline"
   ]
  },
  {
   "cell_type": "code",
   "execution_count": 2,
   "metadata": {
    "collapsed": true
   },
   "outputs": [],
   "source": [
    "import math"
   ]
  },
  {
   "cell_type": "code",
   "execution_count": 3,
   "metadata": {
    "collapsed": true
   },
   "outputs": [],
   "source": [
    "batch_size = 1001"
   ]
  },
  {
   "cell_type": "code",
   "execution_count": 5,
   "metadata": {
    "collapsed": true
   },
   "outputs": [],
   "source": [
    "n_hidden = 50"
   ]
  },
  {
   "cell_type": "code",
   "execution_count": 9,
   "metadata": {
    "collapsed": false
   },
   "outputs": [],
   "source": [
    "hidden_layer = tf.nn.tanh(tf.matmul(x, Wh) + bh)\n",
    "theta = tf.matmul(hidden_layer, Wo) + bo"
   ]
  },
  {
   "cell_type": "markdown",
   "metadata": {},
   "source": [
    "### Loss related"
   ]
  },
  {
   "cell_type": "code",
   "execution_count": 10,
   "metadata": {
    "collapsed": true
   },
   "outputs": [],
   "source": [
    "oneDivSqrtTwoPI = tf.constant(1 / math.sqrt(2*math.pi)) # normalisation factor for gaussian, not needed.\n",
    "def tf_normal(y, mu, sigma):\n",
    "    result = tf.subtract(y, mu)\n",
    "    result = tf.divide(result,sigma)\n",
    "    result = -tf.square(result)/2\n",
    "    return tf.divide(tf.exp(result),sigma)*oneDivSqrtTwoPI"
   ]
  },
  {
   "cell_type": "code",
   "execution_count": 11,
   "metadata": {
    "collapsed": true
   },
   "outputs": [],
   "source": [
    "# On utilise un signe moins pour minimiser moins l'entropie"
   ]
  },
  {
   "cell_type": "code",
   "execution_count": 27,
   "metadata": {
    "collapsed": true
   },
   "outputs": [],
   "source": [
    "def get_density(out_pi, out_sigma, out_mu, y):\n",
    "    result = tf_normal(y, out_mu, out_sigma)\n",
    "    result = tf.multiply(result, out_pi)\n",
    "    result = tf.reduce_sum(result, 1, keep_dims=True)\n",
    "    return result"
   ]
  },
  {
   "cell_type": "code",
   "execution_count": 28,
   "metadata": {
    "collapsed": true
   },
   "outputs": [],
   "source": [
    "def get_lossfunc(out_pi, out_sigma, out_mu, y):\n",
    "    result = get_density(out_pi, out_sigma, out_mu, y)\n",
    "    result = -tf.log(result) \n",
    "    return tf.reduce_mean(result)"
   ]
  },
  {
   "cell_type": "code",
   "execution_count": 13,
   "metadata": {
    "collapsed": true
   },
   "outputs": [],
   "source": [
    "def get_mixture_coef(theta):\n",
    "    out_pi, out_sigma, out_mu = tf.split(theta, num_or_size_splits=3,axis=1)\n",
    "    max_pi = tf.reduce_max(out_pi, 1, keep_dims=True)\n",
    "    out_pi = tf.subtract(out_pi, max_pi)\n",
    "    out_pi = tf.exp(out_pi)\n",
    "    normalize_pi = tf.divide(out_pi, tf.reduce_sum(out_pi, keep_dims=True))\n",
    "    out_sigma = tf.exp(out_sigma)\n",
    "    return out_pi, out_sigma, out_mu"
   ]
  },
  {
   "cell_type": "code",
   "execution_count": null,
   "metadata": {
    "collapsed": false
   },
   "outputs": [],
   "source": [
    "# TODO : utiliser la fonction softmax a la place pour les poids"
   ]
  },
  {
   "cell_type": "code",
   "execution_count": 14,
   "metadata": {
    "collapsed": false
   },
   "outputs": [],
   "source": [
    "out_pi, out_sigma, out_mu = get_mixture_coef(theta)"
   ]
  },
  {
   "cell_type": "code",
   "execution_count": 15,
   "metadata": {
    "collapsed": true
   },
   "outputs": [],
   "source": [
    "loss = get_lossfunc(out_pi, out_sigma, out_mu, y)"
   ]
  },
  {
   "cell_type": "code",
   "execution_count": 16,
   "metadata": {
    "collapsed": true
   },
   "outputs": [],
   "source": [
    "train_op = tf.train.AdamOptimizer().minimize(loss)"
   ]
  },
  {
   "cell_type": "code",
   "execution_count": 17,
   "metadata": {
    "collapsed": false
   },
   "outputs": [],
   "source": [
    "sess = tf.InteractiveSession()\n",
    "sess.run(tf.global_variables_initializer())"
   ]
  },
  {
   "cell_type": "code",
   "execution_count": 18,
   "metadata": {
    "collapsed": false
   },
   "outputs": [],
   "source": [
    "x_data = np.float32(np.random.uniform(-10.5, 10.5, (dim_x, batch_size))).T"
   ]
  },
  {
   "cell_type": "code",
   "execution_count": 19,
   "metadata": {
    "collapsed": true
   },
   "outputs": [],
   "source": [
    "y_data = np.float32(np.random.uniform(-10.5, 10.5, (1, batch_size))).T"
   ]
  },
  {
   "cell_type": "code",
   "execution_count": 20,
   "metadata": {
    "collapsed": false
   },
   "outputs": [],
   "source": [
    "sess.run(train_op, feed_dict={x: x_data, y: y_data})"
   ]
  },
  {
   "cell_type": "code",
   "execution_count": 21,
   "metadata": {
    "collapsed": true
   },
   "outputs": [],
   "source": [
    "loss_list  = []"
   ]
  },
  {
   "cell_type": "code",
   "execution_count": 22,
   "metadata": {
    "collapsed": false
   },
   "outputs": [],
   "source": [
    "for i in range(10000):\n",
    "    sess.run(train_op, feed_dict={x: x_data, y: y_data})\n",
    "    loss_val = sess.run(loss, feed_dict={x: x_data, y: y_data})\n",
    "    loss_list.append(loss_val)"
   ]
  },
  {
   "cell_type": "code",
   "execution_count": 23,
   "metadata": {
    "collapsed": false
   },
   "outputs": [
    {
     "data": {
      "text/plain": [
       "[<matplotlib.lines.Line2D at 0x7f1d8c514e10>]"
      ]
     },
     "execution_count": 23,
     "metadata": {},
     "output_type": "execute_result"
    },
    {
     "data": {
      "image/png": "[encoded data removed]",
      "text/plain": [
       "<matplotlib.figure.Figure at 0x7f1d8ddb84e0>"
      ]
     },
     "metadata": {},
     "output_type": "display_data"
    }
   ],
   "source": [
    "plt.plot(loss_list)"
   ]
  },
  {
   "cell_type": "code",
   "execution_count": 24,
   "metadata": {
    "collapsed": true
   },
   "outputs": [],
   "source": [
    "# TODO : save the value of theta for which the loss is minimized"
   ]
  },
  {
   "cell_type": "markdown",
   "metadata": {},
   "source": [
    "### Getting the predicted $\\theta$"
   ]
  },
  {
   "cell_type": "code",
   "execution_count": 31,
   "metadata": {
    "collapsed": false
   },
   "outputs": [
    {
     "data": {
      "text/plain": [
       "(array([[ 0.99349481,  0.99443448,  0.99701983, ...,  1.        ,\n",
       "          0.9974227 ,  0.99638021],\n",
       "        [ 0.99584645,  0.9981702 ,  0.99870092, ...,  1.        ,\n",
       "          0.99795908,  0.99886173],\n",
       "        [ 0.9973309 ,  0.99545157,  0.99825913, ...,  0.99803686,\n",
       "          1.        ,  0.99833864],\n",
       "        ..., \n",
       "        [ 0.9982751 ,  0.99492365,  1.        , ...,  0.99603248,\n",
       "          0.99719524,  0.99780315],\n",
       "        [ 0.9964819 ,  0.99495518,  0.99972135, ...,  0.99427032,\n",
       "          1.        ,  0.9999187 ],\n",
       "        [ 0.99650991,  0.99662209,  0.99664468, ...,  0.99677461,\n",
       "          1.        ,  0.99790436]], dtype=float32),\n",
       " array([[  2.52594094e-04,   4.01074886e+00,   2.59192944e+00, ...,\n",
       "           1.31938591e+01,   8.56280531e-05,   7.55374655e-02],\n",
       "        [  2.16336521e-05,   1.43758163e+02,   2.07769132e-04, ...,\n",
       "           2.04472691e-02,   1.65203492e-05,   8.54455853e+00],\n",
       "        [  2.13565683e+00,   5.68151108e-07,   2.13519603e-01, ...,\n",
       "           6.03397563e-03,   2.66340256e-01,   1.28006279e-01],\n",
       "        ..., \n",
       "        [  3.80605650e+00,   3.37824094e-05,   5.68311133e+03, ...,\n",
       "           1.29075954e-02,   1.07792539e-05,   1.17362714e+00],\n",
       "        [  2.52836314e-03,   3.50211394e-07,   8.95372437e+02, ...,\n",
       "           7.98817018e-06,   4.62162077e-01,   4.40769605e-02],\n",
       "        [  7.08843116e-03,   6.02365844e-03,   5.01479879e-02, ...,\n",
       "           1.65374547e-01,   1.34646416e+00,   7.18837814e+01]], dtype=float32),\n",
       " array([[-3.78696585,  2.95414615, -4.8280158 , ..., -5.20102882,\n",
       "          0.05550322,  4.06404972],\n",
       "        [ 1.28091991, -3.41973472, -6.0937376 , ..., -0.84671181,\n",
       "          2.89404917,  1.37249005],\n",
       "        [ 6.5631671 , -0.40537384, -3.96875477, ...,  4.16547203,\n",
       "         -3.40384698,  0.52002978],\n",
       "        ..., \n",
       "        [ 3.79126596,  0.10843831, -4.62258101, ...,  5.85866499,\n",
       "         -0.61867201,  8.76791954],\n",
       "        [ 9.61055851,  2.65414   , -0.43791348, ...,  3.48043013,\n",
       "         -6.22574568,  5.03932428],\n",
       "        [ 0.56746018,  5.76418924,  0.96418673, ...,  3.01347494,\n",
       "         -4.13771582,  1.3134495 ]], dtype=float32))"
      ]
     },
     "execution_count": 31,
     "metadata": {},
     "output_type": "execute_result"
    }
   ],
   "source": [
    "sess.run(get_mixture_coef(theta), feed_dict={x: x_data})"
   ]
  },
  {
   "cell_type": "code",
   "execution_count": null,
   "metadata": {
    "collapsed": true
   },
   "outputs": [],
   "source": [
    "    \n",
    "    "
   ]
  }
 ],
 "metadata": {
  "anaconda-cloud": {},
  "kernelspec": {
   "display_name": "Python [Root]",
   "language": "python",
   "name": "Python [Root]"
  },
  "language_info": {
   "codemirror_mode": {
    "name": "ipython",
    "version": 3
   },
   "file_extension": ".py",
   "mimetype": "text/x-python",
   "name": "python",
   "nbconvert_exporter": "python",
   "pygments_lexer": "ipython3",
   "version": "3.5.2"
  }
 },
 "nbformat": 4,
 "nbformat_minor": 1
}
