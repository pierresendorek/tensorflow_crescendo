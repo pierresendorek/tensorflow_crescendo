{
 "cells": [
  {
   "cell_type": "markdown",
   "metadata": {},
   "source": [
    "# (Second) Simplest Working Tensorflow Notebook Ever\n"
   ]
  },
  {
   "cell_type": "markdown",
   "metadata": {},
   "source": [
    "In this notebook, we show how to use TensorFlow on a very simple task : estimating the coefficients $a$ and $b$ of an affine function $y = ax + b$. \n",
    "Here, instead of observing  $y$, we observe $y$ plus a centered gaussian noise.\n",
    "\n",
    "In order to estimate $a$ and $b$, we design a loss function : the sum of squared errors between the observations and the predictions for some training samples. Minimizing the loss function will provide an estimation of $a$ and $b$.\n",
    "\n",
    "TensorFlow is great to design neural networks, but it is more broadly a math toolbox. Here we will see how we can use a gradient descent to find $a$ and $b$.\n",
    "\n",
    "In the following notebooks, we will see how the exact same methodology applies to estimate the optimal parameters of a neural network, since a neural network is finally just a more complicated function."
   ]
  },
  {
   "cell_type": "code",
   "execution_count": 1,
   "metadata": {
    "collapsed": true
   },
   "outputs": [],
   "source": [
    "import tensorflow as tf\n",
    "import numpy as np\n",
    "import matplotlib.pyplot as plt\n",
    "%matplotlib inline"
   ]
  },
  {
   "cell_type": "markdown",
   "metadata": {},
   "source": [
    "### Generating data with numpy"
   ]
  },
  {
   "cell_type": "code",
   "execution_count": 2,
   "metadata": {
    "collapsed": true
   },
   "outputs": [],
   "source": [
    "# We set the true value of the coefficients, which we will estimate hereafter\n",
    "a_true, b_true = 1.3, -0.7"
   ]
  },
  {
   "cell_type": "markdown",
   "metadata": {},
   "source": [
    "For sake of conciseness, we denote $a$ = `a_true` and $b$ = `b_true`. \n",
    "\n",
    "Now let's  generate some training samples according to :\n",
    "\n",
    "$ y_i = a x_i + b + \\epsilon_i $ \n",
    "\n",
    "where $\\epsilon_i \\sim \\mathcal{N}(0,\\sigma^2)$ with $\\sigma = 0.1$."
   ]
  },
  {
   "cell_type": "code",
   "execution_count": 3,
   "metadata": {
    "collapsed": true
   },
   "outputs": [],
   "source": [
    "n_sample = 1000\n",
    "# Generate some abscissa\n",
    "x = np.random.rand(n_sample)\n",
    "# Generate the corresponding ordinate\n",
    "y = a_true * x + b_true + np.random.randn(n_sample) * 0.1"
   ]
  },
  {
   "cell_type": "code",
   "execution_count": 4,
   "metadata": {},
   "outputs": [
    {
     "data": {
      "text/plain": [
       "<matplotlib.collections.PathCollection at 0x7f0f7e425208>"
      ]
     },
     "execution_count": 4,
     "metadata": {},
     "output_type": "execute_result"
    },
    {
     "data": {
      "image/png": "[encoded data removed]",
      "text/plain": [
       "<matplotlib.figure.Figure at 0x7f0f819fd390>"
      ]
     },
     "metadata": {},
     "output_type": "display_data"
    }
   ],
   "source": [
    "plt.scatter(x, y)"
   ]
  },
  {
   "cell_type": "markdown",
   "metadata": {},
   "source": [
    "### Finding the coefficients a and b that minimize the sum of the square errors"
   ]
  },
  {
   "cell_type": "markdown",
   "metadata": {},
   "source": [
    "#####  Random initialization of the variables to estimate\n",
    "Hereafter, we create two TensorFlow `Variable` objects. These objects will have their values modified while training the model. They will contain estimates of `a_true` and `b_true`. During the optimization, they will get closer and closer to the optimal values. Their values are initialized randomly."
   ]
  },
  {
   "cell_type": "code",
   "execution_count": 5,
   "metadata": {
    "collapsed": true
   },
   "outputs": [],
   "source": [
    "a_estimated = tf.Variable(tf.truncated_normal([1]))\n",
    "b_estimated = tf.Variable(tf.truncated_normal([1]))\n",
    "# tf.truncated_normal([1]) : initializes the Variable randomly, as a matrix of dimension [1], i.e. a scalar,\n",
    "# with a value drawn according to the truncated_normal distribution."
   ]
  },
  {
   "cell_type": "markdown",
   "metadata": {},
   "source": [
    "##### Creation of placeholders for the values `x` and `y`\n",
    "These placeholders are TensorFlow objects that will be fed later, during the optimization or the evaluation stage. One can see them as empty containers that are used to define the dimensions of the data. It enables the machine to build an internal representation of the computations that will be done later."
   ]
  },
  {
   "cell_type": "code",
   "execution_count": 6,
   "metadata": {
    "collapsed": true
   },
   "outputs": [],
   "source": [
    "x_tf  = tf.placeholder(tf.float32, [n_sample])\n",
    "y_tf = tf.placeholder(tf.float32, [n_sample])"
   ]
  },
  {
   "cell_type": "markdown",
   "metadata": {},
   "source": [
    "##### Designing a loss function to minimize the sum of the squared errors"
   ]
  },
  {
   "cell_type": "markdown",
   "metadata": {},
   "source": [
    "For sake of conciseness, we denote $\\hat{a}$ = `a_estimated` and $\\hat{b}$ = `b_estimated`. And we design the loss function as follows :\n",
    "\n",
    "loss = $ \\sum_{0 \\leq i < n_{sample}}  (\\hat{a} x_i + \\hat{b} - y_i)^2 $"
   ]
  },
  {
   "cell_type": "code",
   "execution_count": 7,
   "metadata": {
    "collapsed": true
   },
   "outputs": [],
   "source": [
    "loss =  tf.reduce_sum(tf.square(a_estimated * x_tf + b_estimated - y_tf))"
   ]
  },
  {
   "cell_type": "code",
   "execution_count": 8,
   "metadata": {
    "collapsed": true
   },
   "outputs": [],
   "source": [
    "train_op = tf.train.GradientDescentOptimizer(learning_rate=0.0001).minimize(loss)"
   ]
  },
  {
   "cell_type": "markdown",
   "metadata": {},
   "source": [
    "##### Initialization of TensorFlow"
   ]
  },
  {
   "cell_type": "code",
   "execution_count": 9,
   "metadata": {
    "collapsed": true
   },
   "outputs": [],
   "source": [
    "sess = tf.InteractiveSession()\n",
    "sess.run(tf.global_variables_initializer())"
   ]
  },
  {
   "cell_type": "markdown",
   "metadata": {},
   "source": [
    "#### Gradient descent steps to optimize the value of `a_estimated` and `b_estimated`"
   ]
  },
  {
   "cell_type": "code",
   "execution_count": 10,
   "metadata": {
    "collapsed": true
   },
   "outputs": [],
   "source": [
    "n_iter = 500\n",
    "loss_list = []"
   ]
  },
  {
   "cell_type": "markdown",
   "metadata": {},
   "source": [
    "In the following loop, we call `sess` while feeding the placeholders with values with the right type and dimensions. \n",
    "Two things are done during each iteration.\n",
    "* The gradient descent performs an optimization step, during which the values of $\\hat{a}$ and $\\hat{b}$ are brought closer to the optimum.\n",
    "* The value of the loss at the current iteration is collected in a list. "
   ]
  },
  {
   "cell_type": "code",
   "execution_count": 11,
   "metadata": {},
   "outputs": [],
   "source": [
    "for i in range(n_iter):\n",
    "    sess.run(train_op, feed_dict={y_tf:y, x_tf:x})\n",
    "    current_loss = sess.run(loss, feed_dict={y_tf:y, x_tf:x})\n",
    "    loss_list.append(current_loss)"
   ]
  },
  {
   "cell_type": "markdown",
   "metadata": {},
   "source": [
    "#### Showing the losses for each iteration"
   ]
  },
  {
   "cell_type": "code",
   "execution_count": 12,
   "metadata": {},
   "outputs": [
    {
     "data": {
      "text/plain": [
       "[<matplotlib.lines.Line2D at 0x7f0f7e2a5908>]"
      ]
     },
     "execution_count": 12,
     "metadata": {},
     "output_type": "execute_result"
    },
    {
     "data": {
      "image/png": "[encoded data removed]",
      "text/plain": [
       "<matplotlib.figure.Figure at 0x7f0f7a231160>"
      ]
     },
     "metadata": {},
     "output_type": "display_data"
    }
   ],
   "source": [
    "plt.plot(loss_list)"
   ]
  },
  {
   "cell_type": "markdown",
   "metadata": {},
   "source": [
    "##### And finally, let's see what are the estimated values"
   ]
  },
  {
   "cell_type": "code",
   "execution_count": 13,
   "metadata": {
    "collapsed": true
   },
   "outputs": [],
   "source": [
    "a_b_estimated = sess.run([a_estimated, b_estimated])"
   ]
  },
  {
   "cell_type": "code",
   "execution_count": 14,
   "metadata": {},
   "outputs": [
    {
     "data": {
      "text/plain": [
       "[array([ 1.30727172], dtype=float32), array([-0.70767689], dtype=float32)]"
      ]
     },
     "execution_count": 14,
     "metadata": {},
     "output_type": "execute_result"
    }
   ],
   "source": [
    "a_b_estimated"
   ]
  },
  {
   "cell_type": "markdown",
   "metadata": {},
   "source": [
    "##### Whereas the true values are"
   ]
  },
  {
   "cell_type": "code",
   "execution_count": 15,
   "metadata": {},
   "outputs": [
    {
     "data": {
      "text/plain": [
       "(1.3, -0.7)"
      ]
     },
     "execution_count": 15,
     "metadata": {},
     "output_type": "execute_result"
    }
   ],
   "source": [
    "a_true, b_true"
   ]
  },
  {
   "cell_type": "markdown",
   "metadata": {},
   "source": [
    "The estimated values are close to the true ones ! Great job."
   ]
  },
  {
   "cell_type": "markdown",
   "metadata": {},
   "source": [
    "#### Let's visualize the fitted affine function"
   ]
  },
  {
   "cell_type": "code",
   "execution_count": 16,
   "metadata": {
    "collapsed": true
   },
   "outputs": [],
   "source": [
    "a_est = a_b_estimated[0][0]\n",
    "b_est = a_b_estimated[1][0]"
   ]
  },
  {
   "cell_type": "code",
   "execution_count": 17,
   "metadata": {
    "collapsed": true
   },
   "outputs": [],
   "source": [
    "y_est = a_est * x + b_est"
   ]
  },
  {
   "cell_type": "code",
   "execution_count": 18,
   "metadata": {},
   "outputs": [
    {
     "data": {
      "text/plain": [
       "<matplotlib.collections.PathCollection at 0x7f0f7a256940>"
      ]
     },
     "execution_count": 18,
     "metadata": {},
     "output_type": "execute_result"
    },
    {
     "data": {
      "image/png": "[encoded data removed]",
      "text/plain": [
       "<matplotlib.figure.Figure at 0x7f0f7a256ef0>"
      ]
     },
     "metadata": {},
     "output_type": "display_data"
    }
   ],
   "source": [
    "plt.scatter(x,y,color = \"b\")\n",
    "plt.scatter(x,y_est, color=\"r\")"
   ]
  },
  {
   "cell_type": "markdown",
   "metadata": {},
   "source": [
    "### It fits rather well !"
   ]
  }
 ],
 "metadata": {
  "kernelspec": {
   "display_name": "Python 3",
   "language": "python",
   "name": "python3"
  },
  "language_info": {
   "codemirror_mode": {
    "name": "ipython",
    "version": 3
   },
   "file_extension": ".py",
   "mimetype": "text/x-python",
   "name": "python",
   "nbconvert_exporter": "python",
   "pygments_lexer": "ipython3",
   "version": "3.6.1"
  }
 },
 "nbformat": 4,
 "nbformat_minor": 2
}
